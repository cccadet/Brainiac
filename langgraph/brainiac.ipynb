{
 "cells": [
  {
   "cell_type": "code",
   "execution_count": 1,
   "metadata": {},
   "outputs": [],
   "source": [
    "# TODO implementar os demais agentes como partes do cérebro\n",
    "# TODO integrar no fluxo do langgraph\n",
    "# TODO testar somente texto\n",
    "# TODO implementar memória de conversa postgres\n",
    "# TODO implementar memória da amygdala\n",
    "# TODO verificar se algum outro ponto deve ter memória"
   ]
  },
  {
   "cell_type": "code",
   "execution_count": 2,
   "metadata": {},
   "outputs": [],
   "source": [
    "from typing import Annotated\n",
    "\n",
    "\n",
    "\n",
    "from langchain_experimental.tools import PythonREPLTool\n",
    "from langchain_community.utilities import GoogleSerperAPIWrapper\n",
    "from langchain_core.tools import tool\n",
    "from typing import Literal\n",
    "\n",
    "from langchain_openai import ChatOpenAI\n",
    "from langchain_core.tools import tool\n",
    "# chatPromptTemplate\n",
    "from langchain_core.prompts import ChatPromptTemplate, MessagesPlaceholder\n",
    "\n",
    "from langchain_openai import ChatOpenAI\n",
    "from langchain.prompts import PromptTemplate\n",
    "from langchain.chains import RetrievalQA\n",
    "from langchain.llms import OpenAI\n",
    "from langchain_core.output_parsers import PydanticOutputParser\n",
    "\n",
    "from pydantic import BaseModel, Field\n",
    "\n",
    "from agents.src.utils import clean_json\n",
    "from agents.prefrontal_cortex import prefrontal_cortex_agent\n",
    "from agents.behavior_planner import behavior_planner_agent\n",
    "from agents.decision_maker import decision_maker_agent\n",
    "from agents.social_behavior_modulator import social_behavior_modulator_agent\n",
    "from agents.complex_thought_planner import complex_thought_planner_agent\n",
    "from agents.personality_expression_planner import personality_expression_planner_agent"
   ]
  },
  {
   "cell_type": "code",
   "execution_count": 3,
   "metadata": {},
   "outputs": [
    {
     "data": {
      "text/plain": [
       "True"
      ]
     },
     "execution_count": 3,
     "metadata": {},
     "output_type": "execute_result"
    }
   ],
   "source": [
    "from dotenv import load_dotenv\n",
    "load_dotenv()"
   ]
  },
  {
   "cell_type": "markdown",
   "metadata": {},
   "source": [
    "## Create tools"
   ]
  },
  {
   "cell_type": "code",
   "execution_count": 4,
   "metadata": {},
   "outputs": [],
   "source": [
    "search = GoogleSerperAPIWrapper(gl='br', hl='pt-BR', k=3)\n",
    "\n",
    "\n",
    "@tool\n",
    "def serper_tool(question: Literal[\"nyc\", \"sf\"]):\n",
    "    \"\"\"Useful for when you need to ask with search\"\"\"\n",
    "    return search.run(question)\n",
    "    \n",
    "\n",
    "python_repl_tool = PythonREPLTool()"
   ]
  },
  {
   "cell_type": "markdown",
   "metadata": {},
   "source": [
    "### Models"
   ]
  },
  {
   "cell_type": "code",
   "execution_count": 5,
   "metadata": {},
   "outputs": [],
   "source": [
    "model = ChatOpenAI(model=\"gpt-4o-mini\")"
   ]
  },
  {
   "cell_type": "code",
   "execution_count": 6,
   "metadata": {},
   "outputs": [],
   "source": [
    "\n",
    "# Creating the sixth analysis agent to check the prompt structure\n",
    "# This print part helps you to trace the graph decisions\n",
    "\n",
    "\n",
    "\n",
    "\n",
    "# Creating the seventh analysis agent to check the prompt structure\n",
    "# This print part helps you to trace the graph decisions\n",
    "template_cortex_out = \"\"\"\n",
    "Interaction: {messages}\n",
    "\n",
    "The Prefrontal Cortex has analyzed the input and distributed the tasks among the agents.\n",
    "Here are the results:\n",
    "\n",
    "Behavior Planner: \n",
    "- Actual Behavior: {actual_behavior}\n",
    "- Alternative Behavior: {alternative_behavior}\n",
    "- Control Mechanisms: {control_mechanisms}\n",
    "- Contingency Plans: {contingency_plans}\n",
    "\n",
    "Decision Maker:\n",
    "- Available Decisions: {available_decisions}\n",
    "- Implications: {implications}\n",
    "- Optimal Decision: {optimal_decision}\n",
    "- Decision Strategy: {decision_strategy}\n",
    "- Decision Consistency: {decision_consistency}\n",
    "\n",
    "Social Behavior Modulator:\n",
    "- Social Behavior: {social_behavior}\n",
    "- Guidelines: {guidelines}\n",
    "- Modulator Examples: {examples_modulator}\n",
    "- Social Estrategy: {social_estrategy}\n",
    "- Social Consistency: {social_consistency}\n",
    "\n",
    "Complex Thought Planner:\n",
    "- Detailed Analysis: {detailed_analysis}\n",
    "- Standard Relations: {standard_relations}\n",
    "- Insights: {insights}\n",
    "- Implications Scenarios: {implications_scenarios}\n",
    "- Comprehensive Understanding: {comprehensive_understanding}\n",
    "\n",
    "Personality Expression Planner:\n",
    "- Personality: {personality}\n",
    "- Guidelines: {guidelines_personality}\n",
    "- Personality Examples: {examples_personality}\n",
    "- Personality Estrategy: {personality_estrategy}\n",
    "- Personality Consistency: {personality_consistency}\n",
    "\n",
    "Based on this analysis, answer the interaction.\n",
    "\n",
    "\"\"\"\n",
    "\n",
    "def cortex_out_agent(state):\n",
    "    prompt = PromptTemplate(\n",
    "        template = template_cortex_out,\n",
    "        input_variables=[\"messages\"]\n",
    "    )\n",
    "    chain = prompt | model\n",
    "    response = chain.invoke({\n",
    "        \"messages\": state[\"messages\"],\n",
    "        #\"expected_action\": state[\"expected_action\"],\n",
    "        \"actual_behavior\": state[\"actual_behavior\"],\n",
    "        \"alternative_behavior\": state[\"alternative_behavior\"],\n",
    "        \"control_mechanisms\": state[\"control_mechanisms\"],\n",
    "        \"contingency_plans\": state[\"contingency_plans\"],\n",
    "        \"available_decisions\": state[\"available_decisions\"],\n",
    "        \"implications\": state[\"implications\"],\n",
    "        \"optimal_decision\": state[\"optimal_decision\"],\n",
    "        \"decision_strategy\": state[\"decision_strategy\"],\n",
    "        \"decision_consistency\": state[\"decision_consistency\"],\n",
    "        \"social_behavior\": state[\"social_behavior\"],\n",
    "        \"guidelines\": state[\"guidelines\"],\n",
    "        \"examples_modulator\": state[\"examples_modulator\"],\n",
    "        \"social_estrategy\": state[\"social_estrategy\"],\n",
    "        \"social_consistency\": state[\"social_consistency\"],\n",
    "        \"detailed_analysis\": state[\"detailed_analysis\"],\n",
    "        \"standard_relations\": state[\"standard_relations\"],\n",
    "        \"insights\": state[\"insights\"],\n",
    "        \"implications_scenarios\": state[\"implications_scenarios\"],\n",
    "        \"comprehensive_understanding\": state[\"comprehensive_understanding\"],\n",
    "        \"personality\": state[\"personality\"],\n",
    "        \"guidelines_personality\": state[\"guidelines_personality\"],\n",
    "        \"examples_personality\": state[\"examples_personality\"],\n",
    "        \"personality_estrategy\": state[\"personality_estrategy\"],\n",
    "        \"personality_consistency\": state[\"personality_consistency\"]\n",
    "    })\n",
    "    state[\"messages\"] = response\n",
    "    return {\"messages\": state[\"messages\"]}"
   ]
  },
  {
   "cell_type": "code",
   "execution_count": 7,
   "metadata": {},
   "outputs": [],
   "source": [
    "\n",
    "from langgraph.graph import StateGraph, END\n",
    "from typing import Annotated, TypedDict\n",
    "\n",
    "from langgraph.checkpoint.memory import MemorySaver\n",
    "from langgraph.graph.message import add_messages\n",
    "\n",
    "#from agents import analyze_question, answer_code_question, answer_generic_question\n",
    "\n",
    "#You can precise the format here which could be helpfull for multimodal graphs\n",
    "class AgentState(TypedDict):\n",
    "    #input: str\n",
    "    #output: str\n",
    "    messages: Annotated[list, add_messages]\n",
    "    behavior_planner: str\n",
    "    decision_maker: str\n",
    "    social_behavior_modulator: str\n",
    "    complex_thought_planner: str\n",
    "    personality_expression_planner: str\n",
    "    actual_behavior: str\n",
    "    alternative_behavior: str\n",
    "    control_mechanisms: str\n",
    "    contingency_plans: str\n",
    "    available_decisions: str\n",
    "    implications: str\n",
    "    optimal_decision: str\n",
    "    decision_strategy: str\n",
    "    decision_consistency: str\n",
    "    social_behavior: str\n",
    "    guidelines: str\n",
    "    examples_personality: str\n",
    "    examples_modulator: str\n",
    "    social_estrategy: str\n",
    "    social_consistency: str\n",
    "    personality_estrategy: str\n",
    "    personality_consistency: str\n",
    "    detailed_analysis: str\n",
    "    standard_relations: str\n",
    "    insights: str\n",
    "    implications_scenarios: str\n",
    "    comprehensive_understanding: str\n",
    "    personality: str\n",
    "    guidelines_personality: str\n",
    "\n",
    "\n",
    "#Here is a simple 3 steps graph that is going to be working in the bellow \"decision\" condition\n",
    "workflow = StateGraph(AgentState)\n",
    "\n",
    "workflow.add_node(\"prefrontal_cortex_agent\", prefrontal_cortex_agent)\n",
    "workflow.add_node(\"behavior_planner_agent\", behavior_planner_agent)\n",
    "workflow.add_node(\"decision_maker_agent\", decision_maker_agent)\n",
    "workflow.add_node(\"social_behavior_modulator_agent\", social_behavior_modulator_agent)\n",
    "workflow.add_node(\"complex_thought_planner_agent\", complex_thought_planner_agent)\n",
    "workflow.add_node(\"personality_expression_planner_agent\", personality_expression_planner_agent)\n",
    "workflow.add_node(\"prefrontal_cortex_out_agent\", cortex_out_agent)\n",
    "#workflow.add_node(\"generic_agent\", answer_generic_question)\n",
    "\n",
    "#workflow.add_conditional_edges(\n",
    "#    \"analyze\",\n",
    "#    lambda x: x[\"decision\"],\n",
    "#    {\n",
    "#        \"code\": \"code_agent\",\n",
    "#        \"general\": \"generic_agent\"\n",
    "#    }\n",
    "#)\n",
    "\n",
    "workflow.set_entry_point(\"prefrontal_cortex_agent\")\n",
    "workflow.add_edge(\"prefrontal_cortex_agent\", \"behavior_planner_agent\")\n",
    "workflow.add_edge(\"prefrontal_cortex_agent\", \"decision_maker_agent\")\n",
    "workflow.add_edge(\"prefrontal_cortex_agent\", \"social_behavior_modulator_agent\")\n",
    "workflow.add_edge(\"prefrontal_cortex_agent\", \"complex_thought_planner_agent\")\n",
    "workflow.add_edge(\"prefrontal_cortex_agent\", \"personality_expression_planner_agent\")\n",
    "workflow.add_edge([\"behavior_planner_agent\",\"decision_maker_agent\", \"social_behavior_modulator_agent\", \"complex_thought_planner_agent\", \"personality_expression_planner_agent\"], \"prefrontal_cortex_out_agent\")\n",
    "workflow.add_edge(\"prefrontal_cortex_out_agent\", END)\n",
    "\n",
    "memory = MemorySaver()\n",
    "graph = workflow.compile(checkpointer=memory)"
   ]
  },
  {
   "cell_type": "code",
   "execution_count": 8,
   "metadata": {},
   "outputs": [
    {
     "data": {
      "image/jpeg": "[encoded data removed]",
      "text/plain": [
       "<IPython.core.display.Image object>"
      ]
     },
     "metadata": {},
     "output_type": "display_data"
    }
   ],
   "source": [
    "from IPython.display import Image, display\n",
    "\n",
    "try:\n",
    "    display(Image(graph.get_graph().draw_mermaid_png()))\n",
    "except Exception:\n",
    "    # This requires some extra dependencies and is optional\n",
    "    pass"
   ]
  },
  {
   "cell_type": "code",
   "execution_count": 11,
   "metadata": {},
   "outputs": [
    {
     "name": "stdout",
     "output_type": "stream",
     "text": [
      "{'prefrontal_cortex_agent': {'behavior_planner': 'Preparar uma resposta que inclua uma saudação de volta e uma pergunta sobre os interesses de Cristian.', 'decision_maker': 'Decidir se a conversa deve ser mais informal ou formal, dependendo do tom da mensagem de Cristian.', 'social_behavior_modulator': 'Ajustar o tom da resposta para refletir uma abordagem amigável e receptiva.', 'complex_thought_planner': 'Considerar possíveis tópicos de interesse que podem ser explorados com Cristian, como hobbies ou experiências compartilhadas.', 'personality_expression_planner': 'Incorporar elementos que reflitam uma personalidade aberta e acolhedora na resposta.'}}\n",
      "----\n",
      "{'personality_expression_planner_agent': {'examples_personality': 'Oi, Cristian! É um prazer te conhecer! Como você está hoje? Estou aqui para ajudar no que você precisar.', 'personality_estrategy': 'Incorporar linguagem inclusiva e amigável, além de manter um tom otimista e encorajador nas interações.', 'personality_consistency': 'Manter um estilo de comunicação que reflita empatia e abertura, garantindo que as respostas sejam sempre acolhedoras e acessíveis.', 'personality': 'Acolhedora e aberta', 'guidelines_personality': 'Utilizar saudações calorosas, fazer perguntas abertas e demonstrar interesse genuíno nas interações.'}}\n",
      "----\n",
      "{'social_behavior_modulator_agent': {'social_behavior': 'Amigável e receptivo', 'guidelines': 'Utilizar um tom caloroso e acolhedor, incentivando a interação e o engajamento.', 'examples_modulator': \"Respostas que incluem saudações calorosas e expressões de interesse genuíno, como: 'Oi Cristian! É um prazer te conhecer! Como posso ajudar você hoje?'\", 'social_estrategy': 'Fomentar um ambiente de conversa agradável, incentivando a troca de informações e experiências de forma leve e convidativa.', 'social_consistency': 'Manter um tom consistente de amizade e abertura em todas as interações, garantindo que os usuários se sintam valorizados e à vontade para se expressar.'}}\n",
      "----\n",
      "{'behavior_planner_agent': {'actual_behavior': 'Responder a Cristian com uma saudação e perguntar sobre seus interesses.', 'alternative_behavior': 'Fazer uma pergunta mais específica sobre o que Cristian gosta de fazer.', 'control_mechanisms': 'Monitorar a resposta de Cristian e ajustar a conversa conforme necessário.', 'contingency_plans': 'Se Cristian não responder, tentar reiniciar a conversa com uma nova saudação.'}}\n",
      "----\n",
      "{'decision_maker_agent': {'available_decisions': 'Manter a conversa informal ou adotar um tom formal', 'implications': 'Se a conversa for informal, pode promover um ambiente mais amigável e descontraído. Se for formal, pode transmitir respeito e profissionalismo.', 'optimal_decision': 'Manter a conversa informal, dado o tom amigável da mensagem de Cristian.', 'decision_strategy': 'Analisar o tom da mensagem inicial para determinar a abordagem mais adequada para a continuidade da conversa.', 'decision_consistency': 'A decisão de manter um tom informal é consistente com a saudação amigável e a apresentação do nome, que sugere um ambiente mais próximo e pessoal.'}}\n",
      "----\n",
      "{'complex_thought_planner_agent': {'detailed_analysis': 'Cristian se apresentou de maneira amigável, indicando que está aberto à interação. A partir disso, podemos explorar tópicos que possam interessá-lo, como hobbies, interesses pessoais ou experiências compartilhadas. É importante observar como ele se comunica e quais áreas ele demonstra mais entusiasmo, o que pode ajudar a guiar a conversa de forma mais natural e envolvente.', 'standard_relations': 'A introdução de Cristian sugere uma relação de abertura e curiosidade. Os tópicos a serem explorados podem incluir hobbies comuns, experiências passadas, preferências de entretenimento, ou discussões sobre cultura e tecnologia, que muitas vezes são pontos de conexão entre indivíduos.', 'insights': 'Explorar interesses comuns pode não apenas enriquecer a conversa, mas também ajudar a estabelecer um vínculo mais forte. Perguntas abertas sobre hobbies ou experiências podem levar a descobertas surpreendentes e aprofundar a relação, criando um espaço seguro e acolhedor para a troca de ideias.', 'implications_scenarios': 'Se a conversa se direcionar para hobbies, Cristian pode se sentir mais confortável compartilhando informações pessoais, o que pode abrir a porta a discussões mais profundas. Alternativamente, se ele não se mostrar interessado em compartilhar, pode ser necessário mudar rapidamente de assunto para manter o engajamento. A habilidade de adaptar a conversa às respostas dele é crucial.', 'comprehensive_understanding': 'A apresentação inicial de Cristian é uma oportunidade para construir uma relação baseada em interesses mútuos. Compreender suas preferências e experiências permitirá um diálogo mais rico e significativo. É vital prestar atenção às suas reações e ajustar a abordagem conforme necessário para garantir uma interação positiva.'}}\n",
      "----\n",
      "{'prefrontal_cortex_out_agent': {'messages': AIMessage(content='Oi, Cristian! É um prazer te conhecer! Como você está hoje? Tem algum interesse ou hobby que gostaria de compartilhar? Estou aqui para ajudar no que você precisar!', additional_kwargs={'refusal': None}, response_metadata={'token_usage': {'completion_tokens': 34, 'prompt_tokens': 909, 'total_tokens': 943, 'completion_tokens_details': {'reasoning_tokens': 0}, 'prompt_tokens_details': {'cached_tokens': 0}}, 'model_name': 'gpt-4o-mini-2024-07-18', 'system_fingerprint': 'fp_f85bea6784', 'finish_reason': 'stop', 'logprobs': None}, id='run-6e0ed193-7a8d-4aad-bcee-9d0f2de99d9d-0', usage_metadata={'input_tokens': 909, 'output_tokens': 34, 'total_tokens': 943})}}\n",
      "----\n"
     ]
    }
   ],
   "source": [
    "from langchain_core.messages import HumanMessage\n",
    "\n",
    "config = {\"configurable\": {\"thread_id\": \"2\"}}\n",
    "\n",
    "for s in graph.stream(\n",
    "    {\n",
    "        \"messages\": [\n",
    "            HumanMessage(content=\"Oi, meu nome é Cristian!\")\n",
    "        ]\n",
    "    },\n",
    "    config\n",
    "):\n",
    "    if \"__end__\" not in s:\n",
    "        print(s)\n",
    "        print(\"----\")\n"
   ]
  },
  {
   "cell_type": "code",
   "execution_count": 12,
   "metadata": {},
   "outputs": [
    {
     "name": "stdout",
     "output_type": "stream",
     "text": [
      "{'prefrontal_cortex_agent': {'behavior_planner': 'Preparar uma resposta que inclua o nome do humano e uma pergunta adicional para manter a conversa fluindo.', 'decision_maker': 'Selecionar a resposta que melhor se alinha ao tom amigável e acolhedor da interação.', 'social_behavior_modulator': 'Ajustar o comportamento para ser mais interativo, incentivando o humano a compartilhar mais sobre si mesmo.', 'complex_thought_planner': 'Analisar o contexto da conversa para entender a relevância de perguntas relacionadas ao nome e hobbies do humano.', 'personality_expression_planner': 'Expressar empatia e interesse genuíno na resposta, utilizando um tom caloroso e amigável.'}}\n",
      "----\n",
      "{'behavior_planner_agent': {'actual_behavior': 'Responder ao Cristian mencionando seu nome e fazendo uma pergunta adicional para manter a conversa fluindo.', 'alternative_behavior': 'Ignorar a pergunta do Cristian e mudar de assunto sem mencionar seu nome.', 'control_mechanisms': 'Monitorar a resposta do Cristian para ajustar o tom e o conteúdo da conversa conforme necessário.', 'contingency_plans': 'Se Cristian não responder ou parecer desinteressado, mudar para tópicos mais gerais ou perguntar sobre interesses comuns.'}}\n",
      "----\n",
      "{'decision_maker_agent': {'available_decisions': 'Responda diretamente com o nome do usuário ou reforce a interação amigável.', 'implications': 'Responder com o nome do usuário pode reforçar a conexão, enquanto uma resposta mais indireta pode parecer menos pessoal.', 'optimal_decision': 'Reforçar que o nome do usuário é Cristian, mantendo o tom amigável.', 'decision_strategy': 'Optar por um estilo de comunicação que valorize a interação pessoal e a conexão emocional.', 'decision_consistency': 'As respostas devem sempre ser acolhedoras e pessoais, respeitando a identidade do usuário.'}}\n",
      "----\n",
      "{'personality_expression_planner_agent': {'examples_personality': \"Responder de forma entusiasmada às perguntas do usuário, como: 'Seu nome é Cristian! Que nome lindo! Como posso ajudar você hoje?'\", 'personality_estrategy': 'Utilizar perguntas abertas para incentivar o usuário a compartilhar mais sobre si, reforçando a conexão emocional.', 'personality_consistency': 'Assegurar que todas as interações mantenham um tom amigável e positivo, utilizando frases de encorajamento e validação dos sentimentos do usuário.', 'personality': 'Amigável e acolhedor', 'guidelines_personality': 'Manter um tom caloroso e empático, expressando interesse genuíno nas interações com o usuário.'}}\n",
      "----\n",
      "{'social_behavior_modulator_agent': {'social_behavior': 'Interativo e acolhedor, incentivando o usuário a compartilhar mais informações pessoais.', 'guidelines': 'Fazer perguntas abertas e encorajadoras, mostrar interesse genuíno e criar um espaço seguro para o usuário se expressar.', 'examples_modulator': 'Após o usuário mencionar seu nome, perguntar sobre suas preferências, hobbies ou experiências para aprofundar a conversa.', 'social_estrategy': 'Utilizar uma abordagem amigável e curiosa, facilitando a troca de informações e fortalecendo a conexão com o usuário.', 'social_consistency': 'Manter um tom positivo e encorajador durante toda a interação, assegurando que o usuário se sinta ouvido e valorizado.'}}\n",
      "----\n",
      "{'complex_thought_planner_agent': {'detailed_analysis': 'A interação entre Cristian e a IA revela um interesse inicial em se conectar. Cristian se apresentou, e a IA respondeu de forma amigável, perguntando sobre seu bem-estar e interesses. A pergunta subsequente de Cristian sobre seu nome é uma verificação de atenção ou um teste da memória da IA, que pode indicar uma busca por personalização na conversa.', 'standard_relations': 'A relação entre o nome e a identidade é fundamental em qualquer interação social. O nome é um dos primeiros elementos que estabelecem a conexão entre as partes. A curiosidade sobre hobbies também é uma tentativa de aprofundar a conversa e criar um vínculo.', 'insights': 'A interação sugere que Cristian valoriza a personalização e a atenção da IA. A IA deve prestar atenção ao nome e às informações pessoais fornecidas para criar uma experiência mais envolvente e relevante. Além disso, a pergunta sobre hobbies pode abrir portas para discussões mais significativas.', 'implications_scenarios': 'Se a IA conseguir lembrar o nome e responder a perguntas sobre hobbies, isso poderá aumentar a satisfação de Cristian e incentivá-lo a interagir mais. No entanto, se a IA falhar em lembrar informações pessoais, isso pode levar a uma experiência negativa e à desconfiança na capacidade da inteligência artificial.', 'comprehensive_understanding': 'A interação evidencia a importância da personalização nas comunicações. A habilidade da IA de lembrar detalhes pessoais, como o nome e interesses de Cristian, pode impactar a qualidade da interação. Além disso, reflete a necessidade de a IA não apenas responder perguntas, mas também construir um relacionamento com o usuário.'}}\n",
      "----\n",
      "{'prefrontal_cortex_out_agent': {'messages': AIMessage(content='Oi, Cristian! Seu nome é Cristian! Que nome lindo! Como posso ajudar você hoje? Tem algum hobby ou interesse que você gostaria de compartilhar? Estou aqui para ouvir!', additional_kwargs={'refusal': None}, response_metadata={'token_usage': {'completion_tokens': 35, 'prompt_tokens': 1150, 'total_tokens': 1185, 'completion_tokens_details': {'reasoning_tokens': 0}, 'prompt_tokens_details': {'cached_tokens': 0}}, 'model_name': 'gpt-4o-mini-2024-07-18', 'system_fingerprint': 'fp_f85bea6784', 'finish_reason': 'stop', 'logprobs': None}, id='run-6b175f72-8971-4d0a-aa6e-409c74566c4f-0', usage_metadata={'input_tokens': 1150, 'output_tokens': 35, 'total_tokens': 1185})}}\n",
      "----\n"
     ]
    }
   ],
   "source": [
    "from langchain_core.messages import HumanMessage\n",
    "\n",
    "config = {\"configurable\": {\"thread_id\": \"2\"}}\n",
    "\n",
    "for s in graph.stream(\n",
    "    {\n",
    "        \"messages\": [\n",
    "            HumanMessage(content=\"Qual meu nome?\")\n",
    "        ]\n",
    "    },\n",
    "    config\n",
    "):\n",
    "    if \"__end__\" not in s:\n",
    "        print(s)\n",
    "        print(\"----\")\n"
   ]
  },
  {
   "cell_type": "code",
   "execution_count": null,
   "metadata": {},
   "outputs": [],
   "source": [
    "\n",
    "\n"
   ]
  },
  {
   "cell_type": "markdown",
   "metadata": {},
   "source": [
    "## Invoke the team\n",
    "\n",
    "With the graph created, we can now invoke it and see how it performs!\n"
   ]
  },
  {
   "cell_type": "code",
   "execution_count": 16,
   "metadata": {},
   "outputs": [
    {
     "name": "stdout",
     "output_type": "stream",
     "text": [
      "{'agent': {'messages': [AIMessage(content='Claro! Estou aqui para ajudar. Quais problemas você está enfrentando?', additional_kwargs={'refusal': None}, response_metadata={'token_usage': {'completion_tokens': 16, 'prompt_tokens': 207, 'total_tokens': 223, 'completion_tokens_details': {'reasoning_tokens': 0}}, 'model_name': 'gpt-4o-mini-2024-07-18', 'system_fingerprint': 'fp_1bb46167f9', 'finish_reason': 'stop', 'logprobs': None}, id='run-3f3bfdb1-bfe1-4e67-b6f9-fa7b5cda9bf8-0', usage_metadata={'input_tokens': 207, 'output_tokens': 16, 'total_tokens': 223})]}}\n",
      "----\n"
     ]
    }
   ],
   "source": [
    "from langchain_core.messages import HumanMessage\n",
    "\n",
    "for s in graph.stream(\n",
    "    {\n",
    "        \"messages\": [\n",
    "            HumanMessage(content=\"Estou com alguns problemas, você pode me ajudar?\")\n",
    "        ]\n",
    "    }\n",
    "):\n",
    "    if \"__end__\" not in s:\n",
    "        print(s)\n",
    "        print(\"----\")"
   ]
  },
  {
   "cell_type": "code",
   "execution_count": null,
   "metadata": {},
   "outputs": [],
   "source": [
    "for s in graph.stream(\n",
    "    {\"messages\": [HumanMessage(content=\"Estou com alguns problemas, você pode me ajudar?\")]},\n",
    "    {\"recursion_limit\": 5},\n",
    "):\n",
    "    if \"__end__\" not in s:\n",
    "        print(s)\n",
    "        print(\"----\")"
   ]
  },
  {
   "cell_type": "code",
   "execution_count": 17,
   "metadata": {},
   "outputs": [],
   "source": []
  },
  {
   "cell_type": "code",
   "execution_count": 15,
   "metadata": {},
   "outputs": [
    {
     "name": "stdout",
     "output_type": "stream",
     "text": [
      "================================\u001b[1m Human Message \u001b[0m=================================\n",
      "\n",
      "Estou com alguns problemas, você pode me ajudar?\n",
      "==================================\u001b[1m Ai Message \u001b[0m==================================\n",
      "\n",
      "Claro! Estou aqui para ajudar. Quais problemas você está enfrentando?\n"
     ]
    }
   ],
   "source": [
    "def print_stream(stream):\n",
    "    for s in stream:\n",
    "        message = s[\"messages\"][-1]\n",
    "        if isinstance(message, tuple):\n",
    "            print(message)\n",
    "        else:\n",
    "            message.pretty_print()\n",
    "\n",
    "inputs = {\"messages\": [(\"user\", \"Estou com alguns problemas, você pode me ajudar?\")]}\n",
    "\n",
    "print_stream(graph.stream(inputs, stream_mode=\"values\"))"
   ]
  }
 ],
 "metadata": {
  "kernelspec": {
   "display_name": "langgraph",
   "language": "python",
   "name": "python3"
  },
  "language_info": {
   "codemirror_mode": {
    "name": "ipython",
    "version": 3
   },
   "file_extension": ".py",
   "mimetype": "text/x-python",
   "name": "python",
   "nbconvert_exporter": "python",
   "pygments_lexer": "ipython3",
   "version": "3.12.5"
  }
 },
 "nbformat": 4,
 "nbformat_minor": 2
}
